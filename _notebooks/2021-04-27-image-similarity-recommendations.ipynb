{
  "nbformat": 4,
  "nbformat_minor": 0,
  "metadata": {
    "colab": {
      "name": "2021-04-27-image-similarity-recommendations.ipynb",
      "provenance": [],
      "toc_visible": true
    },
    "kernelspec": {
      "name": "python3",
      "display_name": "Python 3"
    },
    "language_info": {
      "name": "python"
    },
    "accelerator": "GPU"
  },
  "cells": [
    {
      "cell_type": "code",
      "metadata": {
        "colab": {
          "base_uri": "https://localhost:8080/"
        },
        "id": "MVHAW10n1F74",
        "outputId": "1bf9840e-03c4-4760-f45d-ef067a666ee9"
      },
      "source": [
        "import os\n",
        "import numpy as np\n",
        "from tensorflow.keras.applications import ResNet50\n",
        "from tensorflow.keras.applications.resnet50 import preprocess_input\n",
        "from tensorflow.keras.preprocessing import image\n",
        "from tensorflow.keras.models import Model\n",
        "from sklearn.metrics.pairwise import cosine_similarity\n",
        "import matplotlib.pyplot as plt\n",
        "import tensorflow_datasets as tfds\n",
        "\n",
        "# -------------------------------\n",
        "# 1. Baixar dataset do TensorFlow\n",
        "# -------------------------------\n",
        "pasta_imagens = \"imagens\"\n",
        "os.makedirs(pasta_imagens, exist_ok=True)\n",
        "\n",
        "if len(os.listdir(pasta_imagens)) == 0:\n",
        "    dataset, info = tfds.load(\"cats_vs_dogs\", split=\"train[:6]\", with_info=True, as_supervised=True)\n",
        "    for i, (img, label) in enumerate(tfds.as_numpy(dataset)):\n",
        "        caminho = os.path.join(pasta_imagens, f\"img{i+1}.jpg\")\n",
        "        plt.imsave(caminho, img.astype(\"uint8\"))\n",
        "    print(\"✅ 6 imagens salvas na pasta 'imagens/'\")\n",
        "else:\n",
        "    print(\"📂 Imagens já existem na pasta.\")\n",
        "\n",
        "# -------------------------------\n",
        "# 2. Carregar modelo pré-treinado\n",
        "# -------------------------------\n",
        "base_model = ResNet50(weights=\"imagenet\", include_top=False, pooling=\"avg\")\n",
        "model = Model(inputs=base_model.input, outputs=base_model.output)\n",
        "\n",
        "# -------------------------------\n",
        "# 3. Função para extrair embeddings\n",
        "# -------------------------------\n",
        "def extrair_embedding(caminho_img):\n",
        "    img = image.load_img(caminho_img, target_size=(224, 224))\n",
        "    x = image.img_to_array(img)\n",
        "    x = np.expand_dims(x, axis=0)\n",
        "    x = preprocess_input(x)\n",
        "    features = model.predict(x, verbose=0)\n",
        "    return features.flatten()\n",
        "\n",
        "# -------------------------------\n",
        "# 4. Processar todas as imagens\n",
        "# -------------------------------\n",
        "arquivos = [os.path.join(pasta_imagens, f) for f in os.listdir(pasta_imagens) if f.endswith((\".jpg\", \".png\", \".jpeg\"))]\n",
        "\n",
        "if len(arquivos) == 0:\n",
        "    raise Exception(\"❌ Nenhuma imagem encontrada na pasta 'imagens/'.\")\n",
        "\n",
        "print(f\"📷 {len(arquivos)} imagens encontradas.\")\n",
        "\n",
        "embeddings = [extrair_embedding(img) for img in arquivos]\n",
        "\n",
        "# -------------------------------\n",
        "# 5. Calcular similaridade\n",
        "# -------------------------------\n",
        "similaridades = cosine_similarity(embeddings)\n",
        "\n",
        "# -------------------------------\n",
        "# 6. Mostrar matriz de similaridade\n",
        "# -------------------------------\n",
        "plt.figure(figsize=(8,6))\n",
        "plt.imshow(similaridades, cmap=\"viridis\")\n",
        "plt.colorbar()\n",
        "plt.title(\"Matriz de Similaridade (Cosine)\", fontsize=14)\n",
        "plt.xticks(range(len(arquivos)), [f\"img{i+1}\" for i in range(len(arquivos))], rotation=45)\n",
        "plt.yticks(range(len(arquivos)), [f\"img{i+1}\" for i in range(len(arquivos))])\n",
        "plt.show()\n"
      ],
      "execution_count": null,
      "outputs": [
        {
          "output_type": "stream",
          "text": [
            "Mounted at /content/drive\n"
          ],
          "name": "stdout"
        }
      ]
    }
  ]
}